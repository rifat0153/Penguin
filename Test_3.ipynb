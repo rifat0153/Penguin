{
  "nbformat": 4,
  "nbformat_minor": 0,
  "metadata": {
    "colab": {
      "name": "Test_3.ipynb",
      "provenance": [],
      "collapsed_sections": []
    },
    "kernelspec": {
      "name": "python3",
      "display_name": "Python 3"
    }
  },
  "cells": [
    {
      "cell_type": "code",
      "metadata": {
        "colab": {
          "base_uri": "https://localhost:8080/"
        },
        "id": "-B_CvUEeCFfr",
        "outputId": "08d50605-bde8-4b8d-d087-5f7bd04a0ad7"
      },
      "source": [
        "import os, time\r\n",
        "#Routine Class\r\n",
        "class Routine:\r\n",
        "  def __init__(self, day, hour, courseId):\r\n",
        "    self.courseId = courseId\r\n",
        "    self.day = day\r\n",
        "    self.hour = hour\r\n",
        "\r\n",
        "  def printRoutine(self, routineList,courseList):\r\n",
        "    for x in routineList:\r\n",
        "      cId = x.courseId\r\n",
        "      print(x.day, x.hour, end=\" \")\r\n",
        "      courseList[cId].printCourseName(cId, courseList)\r\n",
        "\r\n",
        "#Teacher Class\r\n",
        "class Teacher:\r\n",
        "  def __init__(self, name):\r\n",
        "    self.name = name\r\n",
        "\r\n",
        "  def printName(self):\r\n",
        "    print(\"Teachers name is: \",self.name,)\r\n",
        "\r\n",
        "#Course Class\r\n",
        "class Course:\r\n",
        "  def __init__(self, id, cname, teacher):\r\n",
        "    self.id = id\r\n",
        "    self.cname = cname\r\n",
        "    self.name = teacher.name\r\n",
        "\r\n",
        "  def courseDetails(self):\r\n",
        "    print(self.cname, end=\", \")\r\n",
        "    print(self.name)\r\n",
        "\r\n",
        "  def courseList(self):\r\n",
        "    print(self.id+1,\".\",self.cname)\r\n",
        "\r\n",
        "  def printCourseName(self, id, courses):\r\n",
        "    print(courses[id].cname)\r\n",
        "\r\n",
        "#hardcoing teahcers and courses\r\n",
        "t0 = Teacher(\"John Smith\") \r\n",
        "t1 = Teacher(\"Lara Gilbert\")\r\n",
        "t2 = Teacher(\"Johana Kabir\")\r\n",
        "t3 = Teacher(\"Daniel Robertson\")\r\n",
        "t4 = Teacher(\"Larry Cooper\")\r\n",
        "\r\n",
        "c0 = Course(0,\"English Grammer\",t0)\r\n",
        "c1 = Course(1,\"Mathematics\",t1)\r\n",
        "c2 = Course(2,\"Physics\",t2)\r\n",
        "c3 = Course(3,\"Chemistry\",t3)\r\n",
        "c4 = Course(4,\"Biology\",t4)\r\n",
        "\r\n",
        "#working with list is easier\r\n",
        "courses = [c0, c1, c2, c3, c4]\r\n",
        "\r\n",
        "#method of main function\r\n",
        "def detail(course):\r\n",
        "  for x in course:\r\n",
        "    x.courseDetails()\r\n",
        "\r\n",
        "def courseDetail(course):\r\n",
        "  for x in course:\r\n",
        "    x.courseList()\r\n",
        "\r\n",
        "def routineDetail(routine):\r\n",
        "  for x in routine:\r\n",
        "    pass\r\n",
        "#prints the menu\r\n",
        "def menu():\r\n",
        "  print(\"\\n\\nA. Create Routine \\nB. Show Routine\\nC. List Courses with Teachers Name\\n\\n\")\r\n",
        "\r\n",
        "routineList = []\r\n",
        "\r\n",
        "while(True):\r\n",
        "  menu()\r\n",
        "  i = input()\r\n",
        "  \r\n",
        "  if ( i=='A') :\r\n",
        "    courseDetail(courses)\r\n",
        "\r\n",
        "    for x in range(0, 5):\r\n",
        "      while(True):\r\n",
        "        d, h, cId = input().split()\r\n",
        "        day = int(d)\r\n",
        "        hour = int(h)\r\n",
        "        courseIndex = int(cId)\r\n",
        "\r\n",
        "        #validation of inputs\r\n",
        "        if(day<0 or day>4):\r\n",
        "          print(\"Invalid input of day. Enter all value again\")\r\n",
        "        if(hour<0 or hour>3):\r\n",
        "          print(\"Invalid input of hour. Enter all value again\")\r\n",
        "        if(courseIndex<0 or courseIndex>4):\r\n",
        "          print(\"Invalid input of CourseIndex. Enter all value again\")\r\n",
        "        if( (day>=0 and day<=4) and (hour>=0 and hour<=3) and (courseIndex>=0 and courseIndex<=4) ):\r\n",
        "          break\r\n",
        "      \r\n",
        "      newRoutine = Routine(day, hour, courseIndex)\r\n",
        "\r\n",
        "      routineList.append(newRoutine)\r\n",
        "\r\n",
        "  if ( i=='B'):\r\n",
        "    if not routineList:\r\n",
        "      print(\"Routine is Empty\")\r\n",
        "    else:\r\n",
        "      routineList[0].printRoutine(routineList, courses)\r\n",
        "    \r\n",
        "  if ( i=='C'):\r\n",
        "    detail(courses)\r\n",
        "\r\n",
        "  if(i=='D'):\r\n",
        "    break\r\n",
        "\r\n",
        "  os.system('clear')  \r\n",
        "  time.sleep(1)\r\n",
        "\r\n",
        "\r\n"
      ],
      "execution_count": 29,
      "outputs": [
        {
          "output_type": "stream",
          "text": [
            "\n",
            "\n",
            "A. Create Routine \n",
            "B. Show Routine\n",
            "C. List Courses with Teachers Name\n",
            "\n",
            "\n",
            "B\n",
            "Routine is Empty\n",
            "\n",
            "\n",
            "A. Create Routine \n",
            "B. Show Routine\n",
            "C. List Courses with Teachers Name\n",
            "\n",
            "\n",
            "A\n",
            "1 . English Grammer\n",
            "2 . Mathematics\n",
            "3 . Physics\n",
            "4 . Chemistry\n",
            "5 . Biology\n",
            "0 0 0\n",
            "0 2 1\n",
            "0 3 2\n",
            "1 2 3\n",
            "3 1 4\n",
            "\n",
            "\n",
            "A. Create Routine \n",
            "B. Show Routine\n",
            "C. List Courses with Teachers Name\n",
            "\n",
            "\n",
            "B\n",
            "0 0 English Grammer\n",
            "0 2 Mathematics\n",
            "0 3 Physics\n",
            "1 2 Chemistry\n",
            "3 1 Biology\n",
            "\n",
            "\n",
            "A. Create Routine \n",
            "B. Show Routine\n",
            "C. List Courses with Teachers Name\n",
            "\n",
            "\n",
            "C\n",
            "English Grammer, John Smith\n",
            "Mathematics, Lara Gilbert\n",
            "Physics, Johana Kabir\n",
            "Chemistry, Daniel Robertson\n",
            "Biology, Larry Cooper\n",
            "\n",
            "\n",
            "A. Create Routine \n",
            "B. Show Routine\n",
            "C. List Courses with Teachers Name\n",
            "\n",
            "\n",
            "D\n"
          ],
          "name": "stdout"
        }
      ]
    },
    {
      "cell_type": "code",
      "metadata": {
        "colab": {
          "base_uri": "https://localhost:8080/"
        },
        "id": "k4uIKkD7P6Lv",
        "outputId": "233b7e9e-ceb2-4e7a-daa2-5dc62e117c5c"
      },
      "source": [
        "print(type(routineList[0].day))\r\n",
        "print(type(courses[0].printName))"
      ],
      "execution_count": 16,
      "outputs": [
        {
          "output_type": "stream",
          "text": [
            "<class 'int'>\n",
            "<class 'str'>\n"
          ],
          "name": "stdout"
        }
      ]
    },
    {
      "cell_type": "code",
      "metadata": {
        "id": "JFgShOiNOhFH"
      },
      "source": [
        ""
      ],
      "execution_count": null,
      "outputs": []
    },
    {
      "cell_type": "code",
      "metadata": {
        "id": "H_LB913MCKIY"
      },
      "source": [
        ""
      ],
      "execution_count": null,
      "outputs": []
    },
    {
      "cell_type": "code",
      "metadata": {
        "id": "JYKHOA0CCKKg"
      },
      "source": [
        ""
      ],
      "execution_count": null,
      "outputs": []
    },
    {
      "cell_type": "code",
      "metadata": {
        "id": "3AGA8viICKMo"
      },
      "source": [
        ""
      ],
      "execution_count": null,
      "outputs": []
    },
    {
      "cell_type": "code",
      "metadata": {
        "id": "S0ESyb0yCKO6"
      },
      "source": [
        ""
      ],
      "execution_count": null,
      "outputs": []
    }
  ]
}