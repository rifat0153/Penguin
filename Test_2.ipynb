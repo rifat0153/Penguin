{
  "nbformat": 4,
  "nbformat_minor": 0,
  "metadata": {
    "colab": {
      "name": "Test_2.ipynb",
      "provenance": [],
      "collapsed_sections": []
    },
    "kernelspec": {
      "name": "python3",
      "display_name": "Python 3"
    }
  },
  "cells": [
    {
      "cell_type": "code",
      "metadata": {
        "colab": {
          "base_uri": "https://localhost:8080/"
        },
        "id": "Mhx-I3RTMk9w",
        "outputId": "26084839-8eb0-4316-b7e4-2f9b42f5af23"
      },
      "source": [
        "import time\r\n",
        "def efficientJanitor(n, weight):\r\n",
        "\r\n",
        "  trip = 0\r\n",
        "\r\n",
        "  while(True):\r\n",
        "\r\n",
        "    bagWeight = 0\r\n",
        "    items = []\r\n",
        "    i = 0\r\n",
        "    \r\n",
        "    for x in weight:\r\n",
        "      if( bagWeight + x <= 3 ):\r\n",
        "        items.append(x)\r\n",
        "        bagWeight = bagWeight + x\r\n",
        "\r\n",
        "    for x in items:\r\n",
        "      weight.remove(x)\r\n",
        "\r\n",
        "    trip = trip + 1\r\n",
        "    \r\n",
        "    if not weight:\r\n",
        "      print(trip)\r\n",
        "      time.sleep(3)\r\n",
        "      break\r\n",
        "\r\n",
        "n = int(input())\r\n",
        "weight = []\r\n",
        "while( True ):\r\n",
        "    a = float(input())\r\n",
        "    if( a > 3):\r\n",
        "        print(\"Input must be 0-3. Enter value again\")\r\n",
        "    else:\r\n",
        "        weight.append(a)\r\n",
        "    if(len(weight) == n):\r\n",
        "        break\r\n",
        "efficientJanitor(n, weight)"
      ],
      "execution_count": 9,
      "outputs": [
        {
          "output_type": "stream",
          "text": [
            "5\n",
            "1.01\n",
            "1.99\n",
            "2.5\n",
            "1.5\n",
            "1.01\n",
            "3\n"
          ],
          "name": "stdout"
        }
      ]
    },
    {
      "cell_type": "code",
      "metadata": {
        "id": "Cns8NZgOmuzK"
      },
      "source": [
        ""
      ],
      "execution_count": null,
      "outputs": []
    },
    {
      "cell_type": "code",
      "metadata": {
        "id": "h9pWrfAEmu6Y"
      },
      "source": [
        ""
      ],
      "execution_count": null,
      "outputs": []
    }
  ]
}